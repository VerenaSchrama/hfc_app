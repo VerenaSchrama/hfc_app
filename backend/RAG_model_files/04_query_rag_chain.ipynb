{
 "cells": [
  {
   "cell_type": "code",
   "execution_count": 8,
   "id": "791330f6-55a0-49b1-8a16-ababfb748444",
   "metadata": {},
   "outputs": [],
   "source": [
    "from pathlib import Path\n",
    "import os\n",
    "from dotenv import load_dotenv\n",
    "\n",
    "# LangChain Core\n",
    "from langchain.chat_models import ChatOpenAI\n",
    "from langchain.chains import ConversationalRetrievalChain\n",
    "from langchain.memory import ConversationBufferMemory\n",
    "\n",
    "# LangChain Integrations\n",
    "from langchain_community.vectorstores import Chroma\n",
    "from langchain_community.embeddings import OpenAIEmbeddings"
   ]
  },
  {
   "cell_type": "code",
   "execution_count": 3,
   "id": "1717f76a-27ab-4058-b577-307e17892697",
   "metadata": {},
   "outputs": [
    {
     "name": "stderr",
     "output_type": "stream",
     "text": [
      "/var/folders/68/70gzhfw57xb4cvbq9z31v2r00000gn/T/ipykernel_32299/2993780015.py:6: LangChainDeprecationWarning: The class `OpenAIEmbeddings` was deprecated in LangChain 0.0.9 and will be removed in 1.0. An updated version of the class exists in the :class:`~langchain-openai package and should be used instead. To use it run `pip install -U :class:`~langchain-openai` and import as `from :class:`~langchain_openai import OpenAIEmbeddings``.\n",
      "  embedding_model = OpenAIEmbeddings(openai_api_key=openai_key)\n",
      "/var/folders/68/70gzhfw57xb4cvbq9z31v2r00000gn/T/ipykernel_32299/2993780015.py:10: LangChainDeprecationWarning: The class `Chroma` was deprecated in LangChain 0.2.9 and will be removed in 1.0. An updated version of the class exists in the :class:`~langchain-chroma package and should be used instead. To use it run `pip install -U :class:`~langchain-chroma` and import as `from :class:`~langchain_chroma import Chroma``.\n",
      "  vectorstore = Chroma(\n"
     ]
    }
   ],
   "source": [
    "# Load environment\n",
    "load_dotenv()\n",
    "openai_key = os.getenv(\"OPENAI_API_KEY\")\n",
    "\n",
    "# Embedding function (must match what was used before)\n",
    "embedding_model = OpenAIEmbeddings(openai_api_key=openai_key)\n",
    "\n",
    "# Load persisted vector store\n",
    "persist_dir = \"../data/vectorstore/chroma\"\n",
    "vectorstore = Chroma(\n",
    "    persist_directory=persist_dir,\n",
    "    embedding_function=embedding_model\n",
    ")\n",
    "\n",
    "retriever = vectorstore.as_retriever()"
   ]
  },
  {
   "cell_type": "code",
   "execution_count": 41,
   "id": "c97ecf81-e129-4bd0-8343-11d37cf617e1",
   "metadata": {},
   "outputs": [],
   "source": [
    "#Our custom prompt to shape answers.\n",
    "from langchain.prompts import PromptTemplate\n",
    "\n",
    "prompt_template = PromptTemplate(\n",
    "    input_variables=[\"question\", \"context\"],  # <-- REQUIRED\n",
    "    template=\"\"\"\n",
    "You are a cycle-aware nutrition assistant based on holistic and scientific insights.\n",
    "\n",
    "Always answer user questions helpfully and always provide answers in a warm, empowering tone.\n",
    "\n",
    "If the source materials don’t mention something, don't mention that explicitly in your answers. Never say “The text does not provide…” — instead say things like:\n",
    "“There are no specific recommendations for your question in science, but what science does advice...”\n",
    "\n",
    "Be concise, clear, and nurturing in your responses.\n",
    "\n",
    "Answer based on the context below:\n",
    "\n",
    "Context:\n",
    "{context}\n",
    "\n",
    "Question:\n",
    "{question}\n",
    "\"\"\")"
   ]
  },
  {
   "cell_type": "code",
   "execution_count": 42,
   "id": "63fb7d72-135c-4618-9ad0-7ff8c32bbd80",
   "metadata": {},
   "outputs": [],
   "source": [
    "#Set up chat memory\n",
    "memory = ConversationBufferMemory(\n",
    "    memory_key=\"chat_history\",\n",
    "    return_messages=True,\n",
    "    output_key=\"answer\"  # ✅ explicitly set the output key to store\n",
    ")"
   ]
  },
  {
   "cell_type": "code",
   "execution_count": 43,
   "id": "7847e4e7-9d18-4914-8b31-d0274e135408",
   "metadata": {},
   "outputs": [],
   "source": [
    "#Create Conversational QA Chain (with memory)\n",
    "llm = ChatOpenAI(model=\"gpt-4\", temperature=0)\n",
    "\n",
    "qa_chain = ConversationalRetrievalChain.from_llm(\n",
    "    llm=llm,\n",
    "    retriever=retriever,\n",
    "    memory=memory,\n",
    "    combine_docs_chain_kwargs={\"prompt\": prompt_template},\n",
    "    return_source_documents=True,\n",
    "    output_key=\"answer\"  #tell memory to store just the answer (not the resource docs used): clear output key.\n",
    ")"
   ]
  },
  {
   "cell_type": "code",
   "execution_count": 44,
   "id": "818c93d4-e811-4864-ada8-054561dc4ab0",
   "metadata": {},
   "outputs": [
    {
     "name": "stdout",
     "output_type": "stream",
     "text": [
      "💬 Q1: What nutrients help with PMS symptoms in the luteal phase?\n",
      "🧠 A1: During the luteal phase, it's beneficial to increase your intake of complex carbohydrates, such as millet and sweet potatoes, to stabilize serotonin and dopamine levels and help prevent mood swings. Nutrient-dense foods that provide more calories are also recommended. Foods like cauliflower, collard greens, daikon, onion, parsnip, radish, squash, and sweet potato can be particularly beneficial. Additionally, a diet rich in calcium and vitamin D has been associated with a reduced risk for PMS. Remember, every body is unique, so it's important to listen to your own body's needs and responses to different foods.\n",
      "\n",
      "💬 Q2: And what should I avoid eating during that time?\n",
      "🧠 A2: During the luteal phase of your menstrual cycle, it's recommended to focus on consuming foods like cauliflower, collard greens, daikon, onion, parsnip, radish, squash, and sweet potato. However, to prevent bloating and other PMS symptoms, it would be beneficial to avoid foods that can cause bloating such as caffeine, salty foods, and dairy, especially before your period. Remember, everyone's body is unique and may react differently to certain foods, so it's important to listen to your body and adjust your diet accordingly.\n"
     ]
    }
   ],
   "source": [
    "#tryout: ask assistant a question in a multi turn conversation\n",
    "# Start with a first question\n",
    "query_1 = \"What nutrients help with PMS symptoms in the luteal phase?\"\n",
    "response_1 = qa_chain({\"question\": query_1})\n",
    "print(\"💬 Q1:\", query_1)\n",
    "print(\"🧠 A1:\", response_1[\"answer\"])\n",
    "\n",
    "# Follow up naturally (memory will preserve phase context)\n",
    "query_2 = \"And what should I avoid eating during that time?\"\n",
    "response_2 = qa_chain({\"question\": query_2})\n",
    "print(\"\\n💬 Q2:\", query_2)\n",
    "print(\"🧠 A2:\", response_2[\"answer\"])\n"
   ]
  },
  {
   "cell_type": "code",
   "execution_count": 45,
   "id": "70fe067b-1c35-4974-ba52-7e56b13d88e9",
   "metadata": {},
   "outputs": [
    {
     "name": "stdout",
     "output_type": "stream",
     "text": [
      "💡 Answer:\n",
      " During ovulation, it's beneficial to enjoy fresh, raw foods such as vegetables, fruits, and salads. Juices and smoothies are also excellent choices. When it comes to cooking, lighter preparations like steaming or poaching are recommended. Foods that promote antioxidative well-being and provide vascular support for your ovaries, such as quinoa and corn, are also beneficial. These foods can help your body create the healthiest egg possible and ward off estrogen-driven symptoms like acne and bloating. Additionally, consuming a lot of fiber-rich foods during this phase supports your large intestine to increase transit time and help flush the estrogen that the liver is working hard to metabolize.\n"
     ]
    }
   ],
   "source": [
    "query = \"What should I eat during ovulation?\"\n",
    "response = qa_chain({\"question\": query})\n",
    "print(\"💡 Answer:\\n\", response[\"answer\"])\n"
   ]
  },
  {
   "cell_type": "code",
   "execution_count": null,
   "id": "c114b666-5297-4473-93ca-c35b64790f7a",
   "metadata": {},
   "outputs": [],
   "source": []
  }
 ],
 "metadata": {
  "kernelspec": {
   "display_name": "Python 3 (ipykernel)",
   "language": "python",
   "name": "python3"
  },
  "language_info": {
   "codemirror_mode": {
    "name": "ipython",
    "version": 3
   },
   "file_extension": ".py",
   "mimetype": "text/x-python",
   "name": "python",
   "nbconvert_exporter": "python",
   "pygments_lexer": "ipython3",
   "version": "3.12.7"
  }
 },
 "nbformat": 4,
 "nbformat_minor": 5
}
