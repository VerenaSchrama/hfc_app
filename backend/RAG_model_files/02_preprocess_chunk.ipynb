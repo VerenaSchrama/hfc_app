{
 "cells": [
  {
   "cell_type": "code",
   "execution_count": 9,
   "id": "c618f00e-da1b-4ca3-be76-603dd587ff9a",
   "metadata": {},
   "outputs": [],
   "source": [
    "# 📦 Imports\n",
    "from pathlib import Path\n",
    "from langchain.text_splitter import RecursiveCharacterTextSplitter\n",
    "\n",
    "# 📂 Load raw text file\n",
    "input_path = Path(\"InFloBook.txt\")\n",
    "with open(input_path, \"r\", encoding=\"utf-8\") as f:\n",
    "    raw_text = f.read()\n",
    "\n",
    "# 🔍 Preview\n",
    "#print(raw_text[2000:5000])"
   ]
  },
  {
   "cell_type": "code",
   "execution_count": 12,
   "id": "280a5b26-4618-400e-911f-c378d1910e35",
   "metadata": {},
   "outputs": [
    {
     "name": "stdout",
     "output_type": "stream",
     "text": [
      "🧼 Cleaned text length: 713747 characters\n"
     ]
    }
   ],
   "source": [
    "# 🧼 Remove empty lines and extra whitespace\n",
    "cleaned_text = \"\\n\".join([line.strip() for line in raw_text.splitlines() if line.strip()])\n",
    "print(f\"🧼 Cleaned text length: {len(cleaned_text)} characters\")\n",
    "#print(cleaned_text[3000:5000])"
   ]
  },
  {
   "cell_type": "code",
   "execution_count": 13,
   "id": "93cd7d69-3952-4746-b912-86e6deeeeb7e",
   "metadata": {},
   "outputs": [
    {
     "name": "stdout",
     "output_type": "stream",
     "text": [
      "🔪 Total chunks created: 1532\n",
      "🧩 First chunk preview:\n",
      " Dedication\n",
      "“Those who flow as life flows know they need no other force.”\n",
      "LAO TZU\n",
      "This book is dedicated to my daughter, Ariana.\n",
      "May you always know the gifts of nature that you contain\n",
      "and the force of nature that you are.\n",
      "Contents\n",
      "Cover\n",
      "Title Page\n",
      "Dedication\n",
      "Introduction\n",
      "Part 1. Our Bodies, Our Time\n",
      "1. Ending Your Mys-education\n",
      "2. Break Free from the 24-Hour Clock\n",
      "3. Beyond Your Period—Understanding Your Hormonal\n",
      "Advantages\n",
      "Part 2. Getting Your Body in the FLO\n",
      "4. Never Diet Again\n"
     ]
    }
   ],
   "source": [
    "#creat text chunks\n",
    "text_splitter = RecursiveCharacterTextSplitter(\n",
    "    chunk_size=500,\n",
    "    chunk_overlap=50,\n",
    "    separators=[\"\\n\\n\", \"\\n\", \".\", \"!\", \"?\", \" \", \"\"]\n",
    ")\n",
    "\n",
    "chunks = text_splitter.split_text(cleaned_text)\n",
    "print(f\"🔪 Total chunks created: {len(chunks)}\")\n",
    "print(\"🧩 First chunk preview:\\n\", chunks[0])\n"
   ]
  },
  {
   "cell_type": "code",
   "execution_count": 15,
   "id": "5dfa7df6-6177-41a9-bdc4-100e930b2ba1",
   "metadata": {},
   "outputs": [
    {
     "name": "stdout",
     "output_type": "stream",
     "text": [
      "✅ Chunks saved to: ../data/processed/chunks_InFloBook.json\n"
     ]
    }
   ],
   "source": [
    "import json\n",
    "from pathlib import Path\n",
    "\n",
    "output_path = Path(\"../data/processed/chunks_InFloBook.json\")\n",
    "output_path.parent.mkdir(parents=True, exist_ok=True)\n",
    "\n",
    "with open(output_path, \"w\", encoding=\"utf-8\") as f:\n",
    "    json.dump(chunks, f, ensure_ascii=False, indent=2)\n",
    "\n",
    "print(f\"✅ Chunks saved to: {output_path}\")\n"
   ]
  },
  {
   "cell_type": "code",
   "execution_count": null,
   "id": "91c0a7c7-9b8f-49e6-b277-f66e973d058b",
   "metadata": {},
   "outputs": [],
   "source": []
  }
 ],
 "metadata": {
  "kernelspec": {
   "display_name": "Python 3 (ipykernel)",
   "language": "python",
   "name": "python3"
  },
  "language_info": {
   "codemirror_mode": {
    "name": "ipython",
    "version": 3
   },
   "file_extension": ".py",
   "mimetype": "text/x-python",
   "name": "python",
   "nbconvert_exporter": "python",
   "pygments_lexer": "ipython3",
   "version": "3.12.7"
  }
 },
 "nbformat": 4,
 "nbformat_minor": 5
}
