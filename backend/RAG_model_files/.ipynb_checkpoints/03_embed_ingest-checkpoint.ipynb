{
 "cells": [
  {
   "cell_type": "code",
   "execution_count": 2,
   "id": "e1cc3712-4839-4328-b87c-3e05671e4195",
   "metadata": {},
   "outputs": [
    {
     "data": {
      "text/plain": [
       "True"
      ]
     },
     "execution_count": 2,
     "metadata": {},
     "output_type": "execute_result"
    }
   ],
   "source": [
    "import json\n",
    "from pathlib import Path\n",
    "from dotenv import load_dotenv\n",
    "import os\n",
    "# LangChain community integrations\n",
    "from langchain_community.embeddings import OpenAIEmbeddings\n",
    "from langchain_community.vectorstores import Chroma\n",
    "\n",
    "# Load environment variables (incl. OpenAI API key)\n",
    "load_dotenv()"
   ]
  },
  {
   "cell_type": "code",
   "execution_count": 3,
   "id": "d78d5d7d-8353-4b01-8a12-d154d4b04774",
   "metadata": {},
   "outputs": [
    {
     "name": "stdout",
     "output_type": "stream",
     "text": [
      "✅ Loaded 1532 chunks\n",
      "🧩 Sample chunk:\n",
      " Dedication\n",
      "“Those who flow as life flows know they need no other force.”\n",
      "LAO TZU\n",
      "This book is dedicated to my daughter, Ariana.\n",
      "May you always know the gifts of nature that you contain\n",
      "and the force of nature that you are.\n",
      "Contents\n",
      "Cover\n",
      "Title Page\n",
      "Dedication\n",
      "Introduction\n",
      "Part 1. Our Bodies, Our Time\n",
      "1. Ending Your Mys-education\n",
      "2. Break Free from the 24-Hour Clock\n",
      "3. Beyond Your Period—Understanding Your Hormonal\n",
      "Advantages\n",
      "Part 2. Getting Your Body in the FLO\n",
      "4. Never Diet Again\n"
     ]
    }
   ],
   "source": [
    "# Path to saved chunks\n",
    "input_path = Path(\"../data/processed/chunks_InFloBook.json\")\n",
    "\n",
    "with open(input_path, \"r\", encoding=\"utf-8\") as f:\n",
    "    chunks = json.load(f)\n",
    "\n",
    "print(f\"✅ Loaded {len(chunks)} chunks\")\n",
    "print(\"🧩 Sample chunk:\\n\", chunks[0])\n"
   ]
  },
  {
   "cell_type": "code",
   "execution_count": 4,
   "id": "86103c68-d0c5-42c6-ac0f-126093994f5f",
   "metadata": {},
   "outputs": [
    {
     "name": "stderr",
     "output_type": "stream",
     "text": [
      "/var/folders/68/70gzhfw57xb4cvbq9z31v2r00000gn/T/ipykernel_31450/1271677538.py:1: LangChainDeprecationWarning: The class `OpenAIEmbeddings` was deprecated in LangChain 0.0.9 and will be removed in 1.0. An updated version of the class exists in the :class:`~langchain-openai package and should be used instead. To use it run `pip install -U :class:`~langchain-openai` and import as `from :class:`~langchain_openai import OpenAIEmbeddings``.\n",
      "  embedding_model = OpenAIEmbeddings(\n"
     ]
    }
   ],
   "source": [
    "embedding_model = OpenAIEmbeddings(\n",
    "    openai_api_key=os.getenv(\"OPENAI_API_KEY\")\n",
    ")"
   ]
  },
  {
   "cell_type": "code",
   "execution_count": 5,
   "id": "ef7a84e7-9e2f-48ea-8444-8b33c4d43a4e",
   "metadata": {},
   "outputs": [
    {
     "name": "stdout",
     "output_type": "stream",
     "text": [
      "✅ Vector store created and saved at: ../data/vectorstore/chroma\n"
     ]
    },
    {
     "name": "stderr",
     "output_type": "stream",
     "text": [
      "/var/folders/68/70gzhfw57xb4cvbq9z31v2r00000gn/T/ipykernel_31450/3503163111.py:9: LangChainDeprecationWarning: Since Chroma 0.4.x the manual persistence method is no longer supported as docs are automatically persisted.\n",
      "  vectorstore.persist()\n"
     ]
    }
   ],
   "source": [
    "persist_dir = \"../data/vectorstore/chroma\"\n",
    "\n",
    "vectorstore = Chroma.from_texts(\n",
    "    texts=chunks,\n",
    "    embedding=embedding_model,\n",
    "    persist_directory=persist_dir\n",
    ")\n",
    "\n",
    "vectorstore.persist()\n",
    "print(f\"✅ Vector store created and saved at: {persist_dir}\")\n"
   ]
  },
  {
   "cell_type": "code",
   "execution_count": 6,
   "id": "fb148f17-8e93-4888-a531-9879afa377b9",
   "metadata": {},
   "outputs": [
    {
     "name": "stdout",
     "output_type": "stream",
     "text": [
      "✅ Reloaded Chroma vectorstore\n"
     ]
    },
    {
     "name": "stderr",
     "output_type": "stream",
     "text": [
      "/var/folders/68/70gzhfw57xb4cvbq9z31v2r00000gn/T/ipykernel_31450/999124508.py:2: LangChainDeprecationWarning: The class `Chroma` was deprecated in LangChain 0.2.9 and will be removed in 1.0. An updated version of the class exists in the :class:`~langchain-chroma package and should be used instead. To use it run `pip install -U :class:`~langchain-chroma` and import as `from :class:`~langchain_chroma import Chroma``.\n",
      "  vectorstore = Chroma(\n"
     ]
    }
   ],
   "source": [
    "#store to use vector store in other notebooks\n",
    "vectorstore = Chroma(\n",
    "    persist_directory=\"../data/vectorstore/chroma\",\n",
    "    embedding_function=embedding_model\n",
    ")\n",
    "\n",
    "print(\"✅ Reloaded Chroma vectorstore\")\n"
   ]
  },
  {
   "cell_type": "code",
   "execution_count": null,
   "id": "c159bd95-671f-4750-bd7a-b861f30ee8e4",
   "metadata": {},
   "outputs": [],
   "source": []
  }
 ],
 "metadata": {
  "kernelspec": {
   "display_name": "Python 3 (ipykernel)",
   "language": "python",
   "name": "python3"
  },
  "language_info": {
   "codemirror_mode": {
    "name": "ipython",
    "version": 3
   },
   "file_extension": ".py",
   "mimetype": "text/x-python",
   "name": "python",
   "nbconvert_exporter": "python",
   "pygments_lexer": "ipython3",
   "version": "3.12.7"
  }
 },
 "nbformat": 4,
 "nbformat_minor": 5
}
